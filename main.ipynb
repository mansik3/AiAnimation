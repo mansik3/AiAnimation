{
 "cells": [
  {
   "cell_type": "code",
   "execution_count": 1,
   "metadata": {},
   "outputs": [],
   "source": [
    "import os\n",
    "import cv2\n",
    "import numpy as np\n",
    "from tensorflow.keras.utils import to_categorical\n",
    "from sklearn.model_selection import train_test_split\n",
    "from tensorflow.keras.models import Sequential\n",
    "from tensorflow.keras.layers import Conv2D, MaxPooling2D, Flatten, Dense, Dropout, BatchNormalization\n",
    "import tensorflow as tf\n",
    "import matplotlib.pyplot as plt"
   ]
  },
  {
   "cell_type": "code",
   "execution_count": 2,
   "metadata": {},
   "outputs": [],
   "source": [
    "directory = 'input/leapGestRecog/leapGestRecog/00/'\n",
    "folders = [f for f in os.listdir(directory) if not f.startswith('.')]\n",
    "lookup = {folder: idx for idx, folder in enumerate(folders)}\n",
    "reverselookup = {idx: folder for idx, folder in enumerate(folders)}\n",
    "# print(lookup)"
   ]
  },
  {
   "cell_type": "code",
   "execution_count": 3,
   "metadata": {},
   "outputs": [],
   "source": [
    "x_data = []\n",
    "y_data = []\n",
    "IMG_SIZE = 150\n",
    "num_classes = 10\n",
    "\n",
    "datacount = 0 # We'll use this to tally how many images are in our dataset\n",
    "for i in range(0, 10): # Loop over the ten top-level folders\n",
    "    for j in os.listdir('input/leapGestRecog/leapGestRecog/0' + str(i) + '/'):\n",
    "        if not j.startswith('.'):\n",
    "            count = 0 \n",
    "            for k in os.listdir('input/leapGestRecog/leapGestRecog/0' + str(i) + '/' + j + '/'):\n",
    "                path = 'input/leapGestRecog/leapGestRecog/0' + str(i) + '/' + j + '/' + k\n",
    "                img = cv2.imread(path,cv2.IMREAD_GRAYSCALE)\n",
    "                img = cv2.resize(img, (IMG_SIZE,IMG_SIZE))\n",
    "                arr = np.array(img)\n",
    "                x_data.append(arr) \n",
    "                count = count + 1\n",
    "            y_values = np.full((count, 1), lookup[j]) \n",
    "            y_data.append(y_values)\n",
    "            datacount = datacount + count\n",
    "x_data = np.array(x_data, dtype = 'float32')\n",
    "y_data = np.array(y_data)\n",
    "y_data = y_data.reshape(datacount, 1) \n",
    "y_data=to_categorical(y_data)\n",
    "x_data = x_data.reshape((datacount, IMG_SIZE, IMG_SIZE, 1))\n",
    "x_data = x_data/255\n",
    "\n",
    "x_train,x_test,y_train,y_test=train_test_split(x_data,y_data,test_size=0.30,random_state=42)"
   ]
  },
  {
   "cell_type": "code",
   "execution_count": 4,
   "metadata": {},
   "outputs": [],
   "source": [
    "x_data = []\n",
    "y_data = []\n",
    "IMG_SIZE = 150\n",
    "num_classes = 10\n",
    "datacount = 0 \n",
    "for i in range(0, num_classes):\n",
    "    for j in os.listdir('input/leapGestRecog/0' + str(i) + '/'):\n",
    "        if not j.startswith('.'):\n",
    "            count = 0\n",
    "            for k in os.listdir('input/leapGestRecog/0' + str(i) + '/' + j + '/'):\n",
    "                path = 'input/leapGestRecog/0' + str(i) + '/' + j + '/' + k\n",
    "                img = cv2.imread(path,cv2.IMREAD_GRAYSCALE)\n",
    "                img = cv2.resize(img, (IMG_SIZE,IMG_SIZE))\n",
    "                arr = np.array(img)\n",
    "                x_data.append(arr) \n",
    "                count = count + 1\n",
    "            y_values = np.full((count, 1), lookup[j]) \n",
    "            y_data.append(y_values)\n",
    "            datacount = datacount + count\n",
    "x_data = np.array(x_data, dtype = 'float32')\n",
    "y_data = np.array(y_data)\n",
    "y_data = y_data.reshape(datacount, 1) # Reshape to be the correct size\n",
    "y_data=to_categorical(y_data)\n",
    "x_data = x_data.reshape((datacount, IMG_SIZE, IMG_SIZE, 1))\n",
    "x_data = x_data/255\n",
    "x_train,x_test,y_train,y_test=train_test_split(x_data,y_data,test_size=0.30,random_state=42)"
   ]
  },
  {
   "cell_type": "code",
   "execution_count": null,
   "metadata": {},
   "outputs": [],
   "source": [
    "model = Sequential()\n",
    "model.add(Conv2D(32, kernel_size=(5, 5), activation='relu', input_shape=(IMG_SIZE,IMG_SIZE,1)))\n",
    "model.add(BatchNormalization())\n",
    "model.add(MaxPooling2D(pool_size=(2, 2)))\n",
    "\n",
    "model.add(Conv2D(64, kernel_size=(3, 3), activation='relu'))\n",
    "model.add(BatchNormalization())\n",
    "model.add(MaxPooling2D(pool_size=(2, 2)))\n",
    "\n",
    "model.add(Conv2D(128, kernel_size=(3, 3), activation='relu'))\n",
    "model.add(BatchNormalization())\n",
    "model.add(MaxPooling2D(pool_size=(2, 2)))\n",
    "\n",
    "model.add(Conv2D(256, kernel_size=(3, 3), activation='relu'))\n",
    "model.add(BatchNormalization())\n",
    "model.add(MaxPooling2D(pool_size=(2, 2)))\n",
    "\n",
    "model.add(Flatten())\n",
    "model.add(Dense(512, activation='relu'))\n",
    "model.add(Dropout(0.5))\n",
    "model.add(Dense(num_classes, activation='softmax'))"
   ]
  },
  {
   "cell_type": "code",
   "execution_count": null,
   "metadata": {},
   "outputs": [],
   "source": [
    "# Compile the model\n",
    "model.compile(optimizer='adam', loss='categorical_crossentropy', metrics=['accuracy'])\n",
    "\n",
    "# Summary of the model\n",
    "model.summary()\n",
    "\n",
    "# Train model \n",
    "# Training parameters\n",
    "batch_size = 8\n",
    "epochs = 3\n",
    "\n",
    "history = model.fit(x_train, y_train, validation_data=(x_test, y_test), epochs=epochs, batch_size=batch_size)\n",
    "\n",
    "# Evaluate the model\n",
    "test_loss, test_acc = model.evaluate(x_test, y_test)\n",
    "print(f'Test accuracy: {test_acc}')"
   ]
  },
  {
   "cell_type": "code",
   "execution_count": null,
   "metadata": {},
   "outputs": [],
   "source": [
    "# Visualize some sample frames\n",
    "def visualize_samples(X, y, num_samples=5):\n",
    "    for i in range(num_samples):\n",
    "        plt.figure(figsize=(10, 2))\n",
    "        for j in range(10):  # show first 10 frames\n",
    "            plt.subplot(1, 10, j+1)\n",
    "            plt.imshow(X[i][j])\n",
    "            plt.axis('off')\n",
    "        plt.title(f'Class: {np.argmax(y[i])}')\n",
    "        plt.show()\n",
    "\n",
    "print('Visualizing samples')\n",
    "visualize_samples(x_train, y_train)"
   ]
  }
 ],
 "metadata": {
  "kernelspec": {
   "display_name": "Python 3",
   "language": "python",
   "name": "python3"
  },
  "language_info": {
   "codemirror_mode": {
    "name": "ipython",
    "version": 3
   },
   "file_extension": ".py",
   "mimetype": "text/x-python",
   "name": "python",
   "nbconvert_exporter": "python",
   "pygments_lexer": "ipython3",
   "version": "3.12.4"
  }
 },
 "nbformat": 4,
 "nbformat_minor": 2
}
